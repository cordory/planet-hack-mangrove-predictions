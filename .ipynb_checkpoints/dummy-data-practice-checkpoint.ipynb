{
 "cells": [
  {
   "cell_type": "code",
   "execution_count": 1,
   "metadata": {},
   "outputs": [],
   "source": [
    "import random\n",
    "\n",
    "\n",
    "def generate_dummy_ndvi_value():\n",
    "    return random.uniform(0.4, 0.7)\n",
    "\n",
    "\n",
    "def generate_dummy_time_series(amount):\n",
    "    time_series = []\n",
    "    for _ in range(0, amount+1):\n",
    "        time_series.append(generate_dummy_ndvi_value())\n",
    "        \n",
    "    return time_series"
   ]
  },
  {
   "cell_type": "code",
   "execution_count": 2,
   "metadata": {},
   "outputs": [
    {
     "data": {
      "text/plain": [
       "[0.5682687969910231,\n",
       " 0.646733264373139,\n",
       " 0.405237044104602,\n",
       " 0.6255816999754197,\n",
       " 0.4585389127942107,\n",
       " 0.6729879070532426,\n",
       " 0.4546746374567842,\n",
       " 0.5511086730260109,\n",
       " 0.6515876345356655,\n",
       " 0.6425617265241834,\n",
       " 0.6286519159197936]"
      ]
     },
     "execution_count": 2,
     "metadata": {},
     "output_type": "execute_result"
    }
   ],
   "source": [
    "time_series_1 = generate_dummy_time_series(10)\n",
    "\n",
    "time_series_1"
   ]
  },
  {
   "cell_type": "code",
   "execution_count": 3,
   "metadata": {},
   "outputs": [],
   "source": [
    "dummy_data = {}\n",
    "\n",
    "for k in 'abcdefghij':\n",
    "    dummy_data[k] = generate_dummy_time_series(10)"
   ]
  },
  {
   "cell_type": "code",
   "execution_count": 4,
   "metadata": {},
   "outputs": [
    {
     "data": {
      "text/plain": [
       "{'a': [0.42597425222908125,\n",
       "  0.5518503134742072,\n",
       "  0.6168349626016817,\n",
       "  0.6070818023400402,\n",
       "  0.6750301562264877,\n",
       "  0.6385212258146415,\n",
       "  0.6664819966885476,\n",
       "  0.5270807476112712,\n",
       "  0.4940229100428033,\n",
       "  0.42102527362159853,\n",
       "  0.515854299124694],\n",
       " 'b': [0.4650008072375624,\n",
       "  0.6509222799279635,\n",
       "  0.6562939846638673,\n",
       "  0.5038687398723242,\n",
       "  0.5610425759803994,\n",
       "  0.5056455872075392,\n",
       "  0.536607086138406,\n",
       "  0.5325842948971815,\n",
       "  0.44384350293670766,\n",
       "  0.5350555010111601,\n",
       "  0.4753025129566457],\n",
       " 'c': [0.5946836872588773,\n",
       "  0.6978657498259578,\n",
       "  0.6692765922550662,\n",
       "  0.40374084103012714,\n",
       "  0.5580596381646192,\n",
       "  0.5315632564267019,\n",
       "  0.6619200127319327,\n",
       "  0.5494210892335327,\n",
       "  0.6357276371563771,\n",
       "  0.6758478547419682,\n",
       "  0.6132679095865999],\n",
       " 'd': [0.6370303755412016,\n",
       "  0.40148665231802694,\n",
       "  0.5592891181914272,\n",
       "  0.5714052020741062,\n",
       "  0.47414593328043975,\n",
       "  0.4205864632123385,\n",
       "  0.5759173468106575,\n",
       "  0.5975996359789039,\n",
       "  0.44514947780812575,\n",
       "  0.40335121207760566,\n",
       "  0.47747141568260826],\n",
       " 'e': [0.5027475890923475,\n",
       "  0.568723915903339,\n",
       "  0.5232774802674908,\n",
       "  0.5479828739148838,\n",
       "  0.5965603302647201,\n",
       "  0.6403107487281772,\n",
       "  0.5378390887340054,\n",
       "  0.6719065085748648,\n",
       "  0.5162171841399517,\n",
       "  0.535170788412397,\n",
       "  0.4198577915044854],\n",
       " 'f': [0.5922596715794807,\n",
       "  0.6141052299694776,\n",
       "  0.4597565337778333,\n",
       "  0.4182706141386113,\n",
       "  0.4787203724401882,\n",
       "  0.49122384204398933,\n",
       "  0.411058964037296,\n",
       "  0.5086447807304517,\n",
       "  0.595680751458179,\n",
       "  0.5292669441422355,\n",
       "  0.6233220009857202],\n",
       " 'g': [0.6397894816387474,\n",
       "  0.5380128611816439,\n",
       "  0.68541731737294,\n",
       "  0.6160916823180476,\n",
       "  0.6565526708415346,\n",
       "  0.5502766419640074,\n",
       "  0.5149670714693078,\n",
       "  0.5328527443990738,\n",
       "  0.4571141800484858,\n",
       "  0.5229997854017018,\n",
       "  0.42720630405875454],\n",
       " 'h': [0.6264589074875246,\n",
       "  0.537583215148909,\n",
       "  0.42347434242474713,\n",
       "  0.5683107817897317,\n",
       "  0.5491794709288599,\n",
       "  0.6759073998671687,\n",
       "  0.6027677016047612,\n",
       "  0.40887892209023186,\n",
       "  0.46113394385012696,\n",
       "  0.6634817105395849,\n",
       "  0.6824717279490826],\n",
       " 'i': [0.5962958332865343,\n",
       "  0.5797965409429943,\n",
       "  0.46118266067671604,\n",
       "  0.6961826163235394,\n",
       "  0.6371520320579473,\n",
       "  0.4686143031621316,\n",
       "  0.6302792144581163,\n",
       "  0.4218078329144175,\n",
       "  0.41526919769576237,\n",
       "  0.5521138967640131,\n",
       "  0.5822133900963818],\n",
       " 'j': [0.5099978357032344,\n",
       "  0.4355084991656563,\n",
       "  0.4555998152282298,\n",
       "  0.40545375973137654,\n",
       "  0.44042432496065986,\n",
       "  0.49712325822319664,\n",
       "  0.4519618311181206,\n",
       "  0.5191354969334567,\n",
       "  0.40834692745239753,\n",
       "  0.5301731542218302,\n",
       "  0.4671180871229188]}"
      ]
     },
     "execution_count": 4,
     "metadata": {},
     "output_type": "execute_result"
    }
   ],
   "source": [
    "dummy_data"
   ]
  },
  {
   "cell_type": "code",
   "execution_count": 5,
   "metadata": {},
   "outputs": [
    {
     "data": {
      "text/plain": [
       "[0.6370303755412016,\n",
       " 0.40148665231802694,\n",
       " 0.5592891181914272,\n",
       " 0.5714052020741062,\n",
       " 0.47414593328043975,\n",
       " 0.4205864632123385,\n",
       " 0.5759173468106575,\n",
       " 0.5975996359789039,\n",
       " 0.44514947780812575,\n",
       " 0.40335121207760566,\n",
       " 0.47747141568260826]"
      ]
     },
     "execution_count": 5,
     "metadata": {},
     "output_type": "execute_result"
    }
   ],
   "source": [
    "dummy_data['d']"
   ]
  },
  {
   "cell_type": "code",
   "execution_count": 6,
   "metadata": {},
   "outputs": [],
   "source": [
    "dummy_data = {}\n",
    "\n",
    "for tile in 'abcdef':\n",
    "    dummy_data[tile] = generate_dummy_time_series(50)"
   ]
  },
  {
   "cell_type": "code",
   "execution_count": 7,
   "metadata": {},
   "outputs": [
    {
     "data": {
      "text/plain": [
       "[0.4245474143533345,\n",
       " 0.5361810035677419,\n",
       " 0.5483920651877685,\n",
       " 0.42640264238541004,\n",
       " 0.5369579393705357,\n",
       " 0.48258036270960464,\n",
       " 0.5460493673480202,\n",
       " 0.44210705557299934,\n",
       " 0.48413463545769453,\n",
       " 0.5478542689727122,\n",
       " 0.48120596215380074,\n",
       " 0.5992692573231837,\n",
       " 0.478611882052136,\n",
       " 0.5218168681557831,\n",
       " 0.6707401134132747,\n",
       " 0.6357108337354519,\n",
       " 0.4272672350031592,\n",
       " 0.4976278722073162,\n",
       " 0.5408731904023609,\n",
       " 0.4886506746943547,\n",
       " 0.6323438693427047,\n",
       " 0.46710119735967126,\n",
       " 0.6947967522537302,\n",
       " 0.4929801663179851,\n",
       " 0.46270907057767224,\n",
       " 0.5784020105162481,\n",
       " 0.4504038160344444,\n",
       " 0.6338909398839816,\n",
       " 0.6836013775320986,\n",
       " 0.4222178914845659,\n",
       " 0.46595426423680264,\n",
       " 0.4279357194495919,\n",
       " 0.5419130814772515,\n",
       " 0.5345995445606121,\n",
       " 0.6605654616504968,\n",
       " 0.6475025689751939,\n",
       " 0.6496709330135036,\n",
       " 0.5921345633923474,\n",
       " 0.6698985434155752,\n",
       " 0.5834288816895433,\n",
       " 0.6536088740382929,\n",
       " 0.4062592761556784,\n",
       " 0.6707306143735428,\n",
       " 0.6579537456490442,\n",
       " 0.6478591928924748,\n",
       " 0.6682158062255119,\n",
       " 0.5177027249466342,\n",
       " 0.42809596627326174,\n",
       " 0.534702632847859,\n",
       " 0.6777035558216141,\n",
       " 0.41454952599999245]"
      ]
     },
     "execution_count": 7,
     "metadata": {},
     "output_type": "execute_result"
    }
   ],
   "source": [
    "dummy_data['d']"
   ]
  },
  {
   "cell_type": "code",
   "execution_count": 8,
   "metadata": {},
   "outputs": [
    {
     "data": {
      "text/html": [
       "<div>\n",
       "<style scoped>\n",
       "    .dataframe tbody tr th:only-of-type {\n",
       "        vertical-align: middle;\n",
       "    }\n",
       "\n",
       "    .dataframe tbody tr th {\n",
       "        vertical-align: top;\n",
       "    }\n",
       "\n",
       "    .dataframe thead th {\n",
       "        text-align: right;\n",
       "    }\n",
       "</style>\n",
       "<table border=\"1\" class=\"dataframe\">\n",
       "  <thead>\n",
       "    <tr style=\"text-align: right;\">\n",
       "      <th></th>\n",
       "      <th>0</th>\n",
       "    </tr>\n",
       "  </thead>\n",
       "  <tbody>\n",
       "    <tr>\n",
       "      <th>0</th>\n",
       "      <td>0.676358</td>\n",
       "    </tr>\n",
       "    <tr>\n",
       "      <th>1</th>\n",
       "      <td>0.695650</td>\n",
       "    </tr>\n",
       "    <tr>\n",
       "      <th>2</th>\n",
       "      <td>0.663476</td>\n",
       "    </tr>\n",
       "    <tr>\n",
       "      <th>3</th>\n",
       "      <td>0.586746</td>\n",
       "    </tr>\n",
       "    <tr>\n",
       "      <th>4</th>\n",
       "      <td>0.423004</td>\n",
       "    </tr>\n",
       "  </tbody>\n",
       "</table>\n",
       "</div>"
      ],
      "text/plain": [
       "          0\n",
       "0  0.676358\n",
       "1  0.695650\n",
       "2  0.663476\n",
       "3  0.586746\n",
       "4  0.423004"
      ]
     },
     "execution_count": 8,
     "metadata": {},
     "output_type": "execute_result"
    }
   ],
   "source": [
    "import pandas as pd\n",
    "\n",
    "\n",
    "df = pd.DataFrame(dummy_data['a'])\n",
    "df.head()"
   ]
  },
  {
   "cell_type": "code",
   "execution_count": 9,
   "metadata": {},
   "outputs": [
    {
     "data": {
      "text/html": [
       "<div>\n",
       "<style scoped>\n",
       "    .dataframe tbody tr th:only-of-type {\n",
       "        vertical-align: middle;\n",
       "    }\n",
       "\n",
       "    .dataframe tbody tr th {\n",
       "        vertical-align: top;\n",
       "    }\n",
       "\n",
       "    .dataframe thead th {\n",
       "        text-align: right;\n",
       "    }\n",
       "</style>\n",
       "<table border=\"1\" class=\"dataframe\">\n",
       "  <thead>\n",
       "    <tr style=\"text-align: right;\">\n",
       "      <th></th>\n",
       "      <th>time</th>\n",
       "      <th>0</th>\n",
       "    </tr>\n",
       "  </thead>\n",
       "  <tbody>\n",
       "    <tr>\n",
       "      <th>0</th>\n",
       "      <td>0</td>\n",
       "      <td>0.676358</td>\n",
       "    </tr>\n",
       "    <tr>\n",
       "      <th>1</th>\n",
       "      <td>1</td>\n",
       "      <td>0.695650</td>\n",
       "    </tr>\n",
       "    <tr>\n",
       "      <th>2</th>\n",
       "      <td>2</td>\n",
       "      <td>0.663476</td>\n",
       "    </tr>\n",
       "    <tr>\n",
       "      <th>3</th>\n",
       "      <td>3</td>\n",
       "      <td>0.586746</td>\n",
       "    </tr>\n",
       "    <tr>\n",
       "      <th>4</th>\n",
       "      <td>4</td>\n",
       "      <td>0.423004</td>\n",
       "    </tr>\n",
       "  </tbody>\n",
       "</table>\n",
       "</div>"
      ],
      "text/plain": [
       "   time         0\n",
       "0     0  0.676358\n",
       "1     1  0.695650\n",
       "2     2  0.663476\n",
       "3     3  0.586746\n",
       "4     4  0.423004"
      ]
     },
     "execution_count": 9,
     "metadata": {},
     "output_type": "execute_result"
    }
   ],
   "source": [
    "df = df.reset_index()\n",
    "df = df.rename(columns={'index': 'time'})\n",
    "df.head()"
   ]
  },
  {
   "cell_type": "code",
   "execution_count": 10,
   "metadata": {},
   "outputs": [
    {
     "data": {
      "text/html": [
       "<div>\n",
       "<style scoped>\n",
       "    .dataframe tbody tr th:only-of-type {\n",
       "        vertical-align: middle;\n",
       "    }\n",
       "\n",
       "    .dataframe tbody tr th {\n",
       "        vertical-align: top;\n",
       "    }\n",
       "\n",
       "    .dataframe thead th {\n",
       "        text-align: right;\n",
       "    }\n",
       "</style>\n",
       "<table border=\"1\" class=\"dataframe\">\n",
       "  <thead>\n",
       "    <tr style=\"text-align: right;\">\n",
       "      <th></th>\n",
       "      <th>time</th>\n",
       "      <th>NDVI</th>\n",
       "    </tr>\n",
       "  </thead>\n",
       "  <tbody>\n",
       "    <tr>\n",
       "      <th>0</th>\n",
       "      <td>0</td>\n",
       "      <td>0.676358</td>\n",
       "    </tr>\n",
       "    <tr>\n",
       "      <th>1</th>\n",
       "      <td>1</td>\n",
       "      <td>0.695650</td>\n",
       "    </tr>\n",
       "    <tr>\n",
       "      <th>2</th>\n",
       "      <td>2</td>\n",
       "      <td>0.663476</td>\n",
       "    </tr>\n",
       "    <tr>\n",
       "      <th>3</th>\n",
       "      <td>3</td>\n",
       "      <td>0.586746</td>\n",
       "    </tr>\n",
       "    <tr>\n",
       "      <th>4</th>\n",
       "      <td>4</td>\n",
       "      <td>0.423004</td>\n",
       "    </tr>\n",
       "  </tbody>\n",
       "</table>\n",
       "</div>"
      ],
      "text/plain": [
       "   time      NDVI\n",
       "0     0  0.676358\n",
       "1     1  0.695650\n",
       "2     2  0.663476\n",
       "3     3  0.586746\n",
       "4     4  0.423004"
      ]
     },
     "execution_count": 10,
     "metadata": {},
     "output_type": "execute_result"
    }
   ],
   "source": [
    "df = df.rename(columns={0: 'NDVI'})\n",
    "df.head()"
   ]
  },
  {
   "cell_type": "code",
   "execution_count": 11,
   "metadata": {},
   "outputs": [
    {
     "data": {
      "text/plain": [
       "[0.67635802899084,\n",
       " 0.6956503395024114,\n",
       " 0.6634760336302421,\n",
       " 0.5867457882397793,\n",
       " 0.42300390664905707]"
      ]
     },
     "execution_count": 11,
     "metadata": {},
     "output_type": "execute_result"
    }
   ],
   "source": [
    "dummy_data['a'][0:5]"
   ]
  },
  {
   "cell_type": "code",
   "execution_count": 12,
   "metadata": {},
   "outputs": [],
   "source": [
    "import numpy as np\n",
    "\n",
    "\n",
    "train = 'abcd'\n",
    "test = 'ef'\n",
    "\n",
    "df_train = pd.DataFrame()\n",
    "df_test = pd.DataFrame()\n",
    "for tile in 'abcdef':\n",
    "    df = pd.DataFrame(dummy_data[tile])\n",
    "    df = df.reset_index()\n",
    "    df = df.rename(columns={'index': 'time', 0: 'NDVI'})\n",
    "    df['tile'] = [tile] * len(df)\n",
    "    df.loc[:,'yesterday'] = df.loc[:,'NDVI'].shift()\n",
    "    if tile in train:\n",
    "        df_train = pd.concat([df_train, df])\n",
    "    else:\n",
    "        df_test = pd.concat([df_test, df])"
   ]
  },
  {
   "cell_type": "code",
   "execution_count": 13,
   "metadata": {},
   "outputs": [
    {
     "name": "stdout",
     "output_type": "stream",
     "text": [
      "(204, 4) (102, 4)\n"
     ]
    }
   ],
   "source": [
    "print(df_train.shape, df_test.shape)"
   ]
  },
  {
   "cell_type": "code",
   "execution_count": 14,
   "metadata": {},
   "outputs": [],
   "source": [
    "X_train = df_train['time']\n",
    "X_test = df_test['time']\n",
    "y_train = df_train['NDVI']\n",
    "y_test = df_test['NDVI']"
   ]
  },
  {
   "cell_type": "code",
   "execution_count": 15,
   "metadata": {},
   "outputs": [],
   "source": [
    "# https://towardsdatascience.com/time-series-modeling-using-scikit-pandas-and-numpy-682e3b8db8d1"
   ]
  },
  {
   "cell_type": "code",
   "execution_count": 16,
   "metadata": {},
   "outputs": [],
   "source": [
    "import sklearn.metrics as metrics\n",
    "\n",
    "\n",
    "def regression_results(y_true, y_pred):\n",
    "    # Regression metrics\n",
    "    explained_variance=metrics.explained_variance_score(y_true, y_pred)\n",
    "    mean_absolute_error=metrics.mean_absolute_error(y_true, y_pred) \n",
    "    mse=metrics.mean_squared_error(y_true, y_pred) \n",
    "    mean_squared_log_error=metrics.mean_squared_log_error(y_true, y_pred)\n",
    "    median_absolute_error=metrics.median_absolute_error(y_true, y_pred)\n",
    "    r2=metrics.r2_score(y_true, y_pred)\n",
    "    print('explained_variance: ', round(explained_variance,4))    \n",
    "    print('mean_squared_log_error: ', round(mean_squared_log_error,4))\n",
    "    print('r2: ', round(r2,4))\n",
    "    print('MAE: ', round(mean_absolute_error,4))\n",
    "    print('MSE: ', round(mse,4))\n",
    "    print('RMSE: ', round(np.sqrt(mse),4))"
   ]
  },
  {
   "cell_type": "code",
   "execution_count": 17,
   "metadata": {},
   "outputs": [
    {
     "data": {
      "text/html": [
       "<div>\n",
       "<style scoped>\n",
       "    .dataframe tbody tr th:only-of-type {\n",
       "        vertical-align: middle;\n",
       "    }\n",
       "\n",
       "    .dataframe tbody tr th {\n",
       "        vertical-align: top;\n",
       "    }\n",
       "\n",
       "    .dataframe thead th {\n",
       "        text-align: right;\n",
       "    }\n",
       "</style>\n",
       "<table border=\"1\" class=\"dataframe\">\n",
       "  <thead>\n",
       "    <tr style=\"text-align: right;\">\n",
       "      <th></th>\n",
       "      <th>time</th>\n",
       "      <th>NDVI</th>\n",
       "      <th>tile</th>\n",
       "    </tr>\n",
       "  </thead>\n",
       "  <tbody>\n",
       "    <tr>\n",
       "      <th>0</th>\n",
       "      <td>0</td>\n",
       "      <td>0.676358</td>\n",
       "      <td>a</td>\n",
       "    </tr>\n",
       "    <tr>\n",
       "      <th>1</th>\n",
       "      <td>1</td>\n",
       "      <td>0.695650</td>\n",
       "      <td>a</td>\n",
       "    </tr>\n",
       "    <tr>\n",
       "      <th>2</th>\n",
       "      <td>2</td>\n",
       "      <td>0.663476</td>\n",
       "      <td>a</td>\n",
       "    </tr>\n",
       "    <tr>\n",
       "      <th>3</th>\n",
       "      <td>3</td>\n",
       "      <td>0.586746</td>\n",
       "      <td>a</td>\n",
       "    </tr>\n",
       "    <tr>\n",
       "      <th>4</th>\n",
       "      <td>4</td>\n",
       "      <td>0.423004</td>\n",
       "      <td>a</td>\n",
       "    </tr>\n",
       "  </tbody>\n",
       "</table>\n",
       "</div>"
      ],
      "text/plain": [
       "   time      NDVI tile\n",
       "0     0  0.676358    a\n",
       "1     1  0.695650    a\n",
       "2     2  0.663476    a\n",
       "3     3  0.586746    a\n",
       "4     4  0.423004    a"
      ]
     },
     "execution_count": 17,
     "metadata": {},
     "output_type": "execute_result"
    }
   ],
   "source": [
    "df = pd.DataFrame(dummy_data['a'])\n",
    "df = df.reset_index()\n",
    "df = df.rename(columns={'index': 'time', 0: 'NDVI'})\n",
    "df['tile'] = ['a'] * len(df)\n",
    "df.head()"
   ]
  },
  {
   "cell_type": "code",
   "execution_count": 18,
   "metadata": {},
   "outputs": [
    {
     "data": {
      "text/html": [
       "<div>\n",
       "<style scoped>\n",
       "    .dataframe tbody tr th:only-of-type {\n",
       "        vertical-align: middle;\n",
       "    }\n",
       "\n",
       "    .dataframe tbody tr th {\n",
       "        vertical-align: top;\n",
       "    }\n",
       "\n",
       "    .dataframe thead th {\n",
       "        text-align: right;\n",
       "    }\n",
       "</style>\n",
       "<table border=\"1\" class=\"dataframe\">\n",
       "  <thead>\n",
       "    <tr style=\"text-align: right;\">\n",
       "      <th></th>\n",
       "      <th>time</th>\n",
       "      <th>NDVI</th>\n",
       "      <th>tile</th>\n",
       "      <th>NDVI_prev</th>\n",
       "    </tr>\n",
       "  </thead>\n",
       "  <tbody>\n",
       "    <tr>\n",
       "      <th>0</th>\n",
       "      <td>0</td>\n",
       "      <td>0.676358</td>\n",
       "      <td>a</td>\n",
       "      <td>NaN</td>\n",
       "    </tr>\n",
       "    <tr>\n",
       "      <th>1</th>\n",
       "      <td>1</td>\n",
       "      <td>0.695650</td>\n",
       "      <td>a</td>\n",
       "      <td>0.676358</td>\n",
       "    </tr>\n",
       "    <tr>\n",
       "      <th>2</th>\n",
       "      <td>2</td>\n",
       "      <td>0.663476</td>\n",
       "      <td>a</td>\n",
       "      <td>0.695650</td>\n",
       "    </tr>\n",
       "    <tr>\n",
       "      <th>3</th>\n",
       "      <td>3</td>\n",
       "      <td>0.586746</td>\n",
       "      <td>a</td>\n",
       "      <td>0.663476</td>\n",
       "    </tr>\n",
       "    <tr>\n",
       "      <th>4</th>\n",
       "      <td>4</td>\n",
       "      <td>0.423004</td>\n",
       "      <td>a</td>\n",
       "      <td>0.586746</td>\n",
       "    </tr>\n",
       "  </tbody>\n",
       "</table>\n",
       "</div>"
      ],
      "text/plain": [
       "   time      NDVI tile  NDVI_prev\n",
       "0     0  0.676358    a        NaN\n",
       "1     1  0.695650    a   0.676358\n",
       "2     2  0.663476    a   0.695650\n",
       "3     3  0.586746    a   0.663476\n",
       "4     4  0.423004    a   0.586746"
      ]
     },
     "execution_count": 18,
     "metadata": {},
     "output_type": "execute_result"
    }
   ],
   "source": [
    "df['NDVI_prev'] = df['NDVI'].shift()\n",
    "df.head()"
   ]
  },
  {
   "cell_type": "code",
   "execution_count": 19,
   "metadata": {},
   "outputs": [
    {
     "data": {
      "text/html": [
       "<div>\n",
       "<style scoped>\n",
       "    .dataframe tbody tr th:only-of-type {\n",
       "        vertical-align: middle;\n",
       "    }\n",
       "\n",
       "    .dataframe tbody tr th {\n",
       "        vertical-align: top;\n",
       "    }\n",
       "\n",
       "    .dataframe thead th {\n",
       "        text-align: right;\n",
       "    }\n",
       "</style>\n",
       "<table border=\"1\" class=\"dataframe\">\n",
       "  <thead>\n",
       "    <tr style=\"text-align: right;\">\n",
       "      <th></th>\n",
       "      <th>time</th>\n",
       "      <th>NDVI</th>\n",
       "      <th>tile</th>\n",
       "      <th>NDVI_prev</th>\n",
       "      <th>NDVI_diff</th>\n",
       "    </tr>\n",
       "  </thead>\n",
       "  <tbody>\n",
       "    <tr>\n",
       "      <th>0</th>\n",
       "      <td>0</td>\n",
       "      <td>0.676358</td>\n",
       "      <td>a</td>\n",
       "      <td>NaN</td>\n",
       "      <td>NaN</td>\n",
       "    </tr>\n",
       "    <tr>\n",
       "      <th>1</th>\n",
       "      <td>1</td>\n",
       "      <td>0.695650</td>\n",
       "      <td>a</td>\n",
       "      <td>0.676358</td>\n",
       "      <td>NaN</td>\n",
       "    </tr>\n",
       "    <tr>\n",
       "      <th>2</th>\n",
       "      <td>2</td>\n",
       "      <td>0.663476</td>\n",
       "      <td>a</td>\n",
       "      <td>0.695650</td>\n",
       "      <td>0.019292</td>\n",
       "    </tr>\n",
       "    <tr>\n",
       "      <th>3</th>\n",
       "      <td>3</td>\n",
       "      <td>0.586746</td>\n",
       "      <td>a</td>\n",
       "      <td>0.663476</td>\n",
       "      <td>-0.032174</td>\n",
       "    </tr>\n",
       "    <tr>\n",
       "      <th>4</th>\n",
       "      <td>4</td>\n",
       "      <td>0.423004</td>\n",
       "      <td>a</td>\n",
       "      <td>0.586746</td>\n",
       "      <td>-0.076730</td>\n",
       "    </tr>\n",
       "  </tbody>\n",
       "</table>\n",
       "</div>"
      ],
      "text/plain": [
       "   time      NDVI tile  NDVI_prev  NDVI_diff\n",
       "0     0  0.676358    a        NaN        NaN\n",
       "1     1  0.695650    a   0.676358        NaN\n",
       "2     2  0.663476    a   0.695650   0.019292\n",
       "3     3  0.586746    a   0.663476  -0.032174\n",
       "4     4  0.423004    a   0.586746  -0.076730"
      ]
     },
     "execution_count": 19,
     "metadata": {},
     "output_type": "execute_result"
    }
   ],
   "source": [
    "df['NDVI_diff'] = df['NDVI_prev'].diff()\n",
    "df.head()"
   ]
  },
  {
   "cell_type": "code",
   "execution_count": 20,
   "metadata": {},
   "outputs": [
    {
     "data": {
      "text/html": [
       "<div>\n",
       "<style scoped>\n",
       "    .dataframe tbody tr th:only-of-type {\n",
       "        vertical-align: middle;\n",
       "    }\n",
       "\n",
       "    .dataframe tbody tr th {\n",
       "        vertical-align: top;\n",
       "    }\n",
       "\n",
       "    .dataframe thead th {\n",
       "        text-align: right;\n",
       "    }\n",
       "</style>\n",
       "<table border=\"1\" class=\"dataframe\">\n",
       "  <thead>\n",
       "    <tr style=\"text-align: right;\">\n",
       "      <th></th>\n",
       "      <th>time</th>\n",
       "      <th>NDVI</th>\n",
       "      <th>tile</th>\n",
       "      <th>NDVI_prev</th>\n",
       "      <th>NDVI_diff</th>\n",
       "    </tr>\n",
       "  </thead>\n",
       "  <tbody>\n",
       "    <tr>\n",
       "      <th>2</th>\n",
       "      <td>2</td>\n",
       "      <td>0.663476</td>\n",
       "      <td>a</td>\n",
       "      <td>0.695650</td>\n",
       "      <td>0.019292</td>\n",
       "    </tr>\n",
       "    <tr>\n",
       "      <th>3</th>\n",
       "      <td>3</td>\n",
       "      <td>0.586746</td>\n",
       "      <td>a</td>\n",
       "      <td>0.663476</td>\n",
       "      <td>-0.032174</td>\n",
       "    </tr>\n",
       "    <tr>\n",
       "      <th>4</th>\n",
       "      <td>4</td>\n",
       "      <td>0.423004</td>\n",
       "      <td>a</td>\n",
       "      <td>0.586746</td>\n",
       "      <td>-0.076730</td>\n",
       "    </tr>\n",
       "    <tr>\n",
       "      <th>5</th>\n",
       "      <td>5</td>\n",
       "      <td>0.596102</td>\n",
       "      <td>a</td>\n",
       "      <td>0.423004</td>\n",
       "      <td>-0.163742</td>\n",
       "    </tr>\n",
       "    <tr>\n",
       "      <th>6</th>\n",
       "      <td>6</td>\n",
       "      <td>0.447497</td>\n",
       "      <td>a</td>\n",
       "      <td>0.596102</td>\n",
       "      <td>0.173098</td>\n",
       "    </tr>\n",
       "  </tbody>\n",
       "</table>\n",
       "</div>"
      ],
      "text/plain": [
       "   time      NDVI tile  NDVI_prev  NDVI_diff\n",
       "2     2  0.663476    a   0.695650   0.019292\n",
       "3     3  0.586746    a   0.663476  -0.032174\n",
       "4     4  0.423004    a   0.586746  -0.076730\n",
       "5     5  0.596102    a   0.423004  -0.163742\n",
       "6     6  0.447497    a   0.596102   0.173098"
      ]
     },
     "execution_count": 20,
     "metadata": {},
     "output_type": "execute_result"
    }
   ],
   "source": [
    "df = df.dropna()\n",
    "df.head()"
   ]
  },
  {
   "cell_type": "code",
   "execution_count": 21,
   "metadata": {},
   "outputs": [
    {
     "data": {
      "text/plain": [
       "(49, 5)"
      ]
     },
     "execution_count": 21,
     "metadata": {},
     "output_type": "execute_result"
    }
   ],
   "source": [
    "df = df.reset_index(drop=True)\n",
    "df.shape"
   ]
  },
  {
   "cell_type": "code",
   "execution_count": 22,
   "metadata": {},
   "outputs": [
    {
     "data": {
      "text/plain": [
       "(35, 5)"
      ]
     },
     "execution_count": 22,
     "metadata": {},
     "output_type": "execute_result"
    }
   ],
   "source": [
    "df_train = df[0:35]\n",
    "df_train.shape"
   ]
  },
  {
   "cell_type": "code",
   "execution_count": 23,
   "metadata": {},
   "outputs": [],
   "source": [
    "df_test = df[36:49]\n",
    "\n",
    "features = ['time', 'NDVI_prev', 'NDVI_diff']\n",
    "target = 'NDVI'\n",
    "X_train = df_train[features]\n",
    "y_train = df_train[target]\n",
    "X_test = df_test[features]\n",
    "y_test = df_test[target]"
   ]
  },
  {
   "cell_type": "code",
   "execution_count": 24,
   "metadata": {},
   "outputs": [],
   "source": [
    "from sklearn.model_selection import TimeSeriesSplit\n",
    "from sklearn.linear_model import LinearRegression\n",
    "from sklearn.neural_network import MLPRegressor\n",
    "from sklearn.neighbors import KNeighborsRegressor\n",
    "from sklearn.ensemble import RandomForestRegressor\n",
    "from sklearn.svm import SVR\n",
    "from sklearn.model_selection import cross_val_score"
   ]
  },
  {
   "cell_type": "code",
   "execution_count": 25,
   "metadata": {},
   "outputs": [],
   "source": [
    "import matplotlib.pyplot as plt"
   ]
  },
  {
   "cell_type": "code",
   "execution_count": 26,
   "metadata": {},
   "outputs": [
    {
     "name": "stdout",
     "output_type": "stream",
     "text": [
      "LR: -0.852046 (0.778084)\n",
      "NN: -1.533603 (1.202291)\n",
      "KNN: -0.749575 (0.649123)\n",
      "RF: -0.952946 (0.749742)\n",
      "SVR: -0.201411 (0.356115)\n"
     ]
    },
    {
     "data": {
      "image/png": "[encoded data removed]",
      "text/plain": [
       "<Figure size 432x288 with 1 Axes>"
      ]
     },
     "metadata": {
      "needs_background": "light"
     },
     "output_type": "display_data"
    }
   ],
   "source": [
    "# Spot Check Algorithms\n",
    "models = []\n",
    "models.append(('LR', LinearRegression()))\n",
    "models.append(('NN', MLPRegressor(solver = 'lbfgs')))  #neural network\n",
    "models.append(('KNN', KNeighborsRegressor())) \n",
    "models.append(('RF', RandomForestRegressor(n_estimators = 10))) # Ensemble method - collection of many decision trees\n",
    "models.append(('SVR', SVR(gamma='auto'))) # kernel = linear\n",
    "# Evaluate each model in turn\n",
    "results = []\n",
    "names = []\n",
    "for name, model in models:\n",
    "    # TimeSeries Cross validation\n",
    "    tscv = TimeSeriesSplit(n_splits=5)\n",
    "    \n",
    "    cv_results = cross_val_score(model, X_train, y_train, cv=tscv, scoring='r2')\n",
    "    results.append(cv_results)\n",
    "    names.append(name)\n",
    "    print('%s: %f (%f)' % (name, cv_results.mean(), cv_results.std()))\n",
    "    \n",
    "# Compare Algorithms\n",
    "plt.boxplot(results, labels=names)\n",
    "plt.title('Algorithm Comparison')\n",
    "plt.show()"
   ]
  }
 ],
 "metadata": {
  "kernelspec": {
   "display_name": "mangroves",
   "language": "python",
   "name": "mangroves"
  },
  "language_info": {
   "codemirror_mode": {
    "name": "ipython",
    "version": 3
   },
   "file_extension": ".py",
   "mimetype": "text/x-python",
   "name": "python",
   "nbconvert_exporter": "python",
   "pygments_lexer": "ipython3",
   "version": "3.8.5"
  }
 },
 "nbformat": 4,
 "nbformat_minor": 4
}
