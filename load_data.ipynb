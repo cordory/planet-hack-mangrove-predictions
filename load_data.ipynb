{
 "cells": [
  {
   "cell_type": "code",
   "execution_count": 1,
   "metadata": {},
   "outputs": [],
   "source": [
    "import rasterio as rio\n",
    "import numpy as np\n",
    "import geopandas as gpd\n",
    "import xarray as xr\n",
    "import matplotlib.pyplot as plt\n",
    "import pandas as pd\n",
    "from pathlib import Path\n",
    "import datetime"
   ]
  },
  {
   "cell_type": "code",
   "execution_count": 2,
   "metadata": {},
   "outputs": [],
   "source": [
    "def calc_ndvi(image_file , aoi_bbox=None):\n",
    "    with rio.open(image_file) as src:\n",
    "        window = None\n",
    "        if aoi_bbox is not None:\n",
    "            window = src.window(*aoi_bbox)\n",
    "        band_red = src.read(3, window=window)\n",
    "\n",
    "    with rio.open(image_file) as src:\n",
    "        window = None\n",
    "        if aoi_bbox is not None:\n",
    "            window = src.window(*aoi_bbox)\n",
    "\n",
    "        band_nir = src.read(4, window=window)\n",
    "        np.seterr(divide='ignore', invalid='ignore')\n",
    "\n",
    "    ndvi = (band_nir.astype(float) - band_red.astype(float)) / (band_nir + band_red)\n",
    "    return ndvi"
   ]
  },
  {
   "cell_type": "markdown",
   "metadata": {},
   "source": [
    "## NDVI for one example"
   ]
  },
  {
   "cell_type": "code",
   "execution_count": 3,
   "metadata": {},
   "outputs": [
    {
     "name": "stdout",
     "output_type": "stream",
     "text": [
      "-0.7932651321398124, 0.7209793161671592\n"
     ]
    }
   ],
   "source": [
    "root_dir = 'data'\n",
    "image_file = '20200814_105841_1053_3B_AnalyticMS.tif'\n",
    "\n",
    "path = Path(root_dir).rglob(image_file)\n",
    "ndvi = calc_ndvi(next(path))\n",
    "print(f'{np.nanmin(ndvi)}, {np.nanmax(ndvi)}')"
   ]
  },
  {
   "cell_type": "code",
   "execution_count": 4,
   "metadata": {},
   "outputs": [
    {
     "data": {
      "image/png": "[encoded data removed]",
      "text/plain": [
       "<Figure size 720x720 with 1 Axes>"
      ]
     },
     "metadata": {
      "needs_background": "light"
     },
     "output_type": "display_data"
    }
   ],
   "source": [
    "fig = plt.figure(figsize=(10,10))\n",
    "ax = fig.add_subplot(111)\n",
    "\n",
    "plt.title(\"NDVI Histogram\", fontsize=18, fontweight='bold')\n",
    "plt.xlabel(\"NDVI values\", fontsize=14)\n",
    "plt.ylabel(\"# pixels\", fontsize=14)\n",
    "\n",
    "\n",
    "x = ndvi[~np.isnan(ndvi)]\n",
    "numBins = 20\n",
    "ax.hist(x,numBins,color='green',alpha=0.8)\n",
    "plt.show()"
   ]
  },
  {
   "cell_type": "markdown",
   "metadata": {},
   "source": [
    "## Aggregate NDVI from all examples\n",
    "\n",
    "Change the root_dir to the root location of the tiff files!!"
   ]
  },
  {
   "cell_type": "code",
   "execution_count": 5,
   "metadata": {},
   "outputs": [
    {
     "name": "stdout",
     "output_type": "stream",
     "text": [
      "processing: 20200814_105841_1053_3B_AnalyticMS.tif\n",
      "processing: 20200814_105836_1053_3B_AnalyticMS.tif\n",
      "processing: 20200814_105837_1053_3B_AnalyticMS.tif\n",
      "processing: 20200814_105840_1053_3B_AnalyticMS.tif\n",
      "processing: 20200814_105838_1053_3B_AnalyticMS.tif\n",
      "processing: 20200814_105839_1053_3B_AnalyticMS.tif\n"
     ]
    }
   ],
   "source": [
    "results = []\n",
    "root_dir = 'data'\n",
    "\n",
    "## this is a hack, open first tif to get the crs, raster and vector data have to use same crs.\n",
    "target_crs = rio.open(next(Path(root_dir).rglob('*MS.tif'))).crs\n",
    "\n",
    "aoi = r'test_geometry.geojson'\n",
    "aoi_df = gpd.read_file(aoi)\n",
    "aoi_df = aoi_df.to_crs(crs=target_crs)\n",
    "aoi_bbox = aoi_df.total_bounds\n",
    "\n",
    "\n",
    "for path in Path(root_dir).rglob('*MS.tif'):\n",
    "    print(f'processing: {path.name}')\n",
    "    ndvi = calc_ndvi(path, aoi_bbox=aoi_bbox)\n",
    "    dt = datetime.datetime.strptime(path.name[0:15], '%Y%m%d_%H%M%S')\n",
    "    results.append((dt, np.nanmean(ndvi), np.nanmin(ndvi), np.nanmax(ndvi)))\n",
    "#[print(r) for r in results];"
   ]
  },
  {
   "cell_type": "markdown",
   "metadata": {},
   "source": [
    "## Write dataframe\n",
    "\n",
    "Write results to a dataframe using acquired datatime as index"
   ]
  },
  {
   "cell_type": "code",
   "execution_count": 6,
   "metadata": {},
   "outputs": [
    {
     "data": {
      "text/html": [
       "<div>\n",
       "<style scoped>\n",
       "    .dataframe tbody tr th:only-of-type {\n",
       "        vertical-align: middle;\n",
       "    }\n",
       "\n",
       "    .dataframe tbody tr th {\n",
       "        vertical-align: top;\n",
       "    }\n",
       "\n",
       "    .dataframe thead th {\n",
       "        text-align: right;\n",
       "    }\n",
       "</style>\n",
       "<table border=\"1\" class=\"dataframe\">\n",
       "  <thead>\n",
       "    <tr style=\"text-align: right;\">\n",
       "      <th></th>\n",
       "      <th>mean</th>\n",
       "      <th>min</th>\n",
       "      <th>max</th>\n",
       "    </tr>\n",
       "    <tr>\n",
       "      <th>acquired</th>\n",
       "      <th></th>\n",
       "      <th></th>\n",
       "      <th></th>\n",
       "    </tr>\n",
       "  </thead>\n",
       "  <tbody>\n",
       "    <tr>\n",
       "      <th>2020-08-14 10:58:41</th>\n",
       "      <td>0.350550</td>\n",
       "      <td>-0.558735</td>\n",
       "      <td>0.711348</td>\n",
       "    </tr>\n",
       "    <tr>\n",
       "      <th>2020-08-14 10:58:36</th>\n",
       "      <td>-0.065776</td>\n",
       "      <td>-0.722446</td>\n",
       "      <td>0.699334</td>\n",
       "    </tr>\n",
       "    <tr>\n",
       "      <th>2020-08-14 10:58:37</th>\n",
       "      <td>0.169951</td>\n",
       "      <td>-0.724834</td>\n",
       "      <td>0.714040</td>\n",
       "    </tr>\n",
       "    <tr>\n",
       "      <th>2020-08-14 10:58:40</th>\n",
       "      <td>0.294269</td>\n",
       "      <td>-0.642276</td>\n",
       "      <td>0.721687</td>\n",
       "    </tr>\n",
       "    <tr>\n",
       "      <th>2020-08-14 10:58:38</th>\n",
       "      <td>0.247755</td>\n",
       "      <td>-0.704122</td>\n",
       "      <td>0.720332</td>\n",
       "    </tr>\n",
       "  </tbody>\n",
       "</table>\n",
       "</div>"
      ],
      "text/plain": [
       "                         mean       min       max\n",
       "acquired                                         \n",
       "2020-08-14 10:58:41  0.350550 -0.558735  0.711348\n",
       "2020-08-14 10:58:36 -0.065776 -0.722446  0.699334\n",
       "2020-08-14 10:58:37  0.169951 -0.724834  0.714040\n",
       "2020-08-14 10:58:40  0.294269 -0.642276  0.721687\n",
       "2020-08-14 10:58:38  0.247755 -0.704122  0.720332"
      ]
     },
     "execution_count": 6,
     "metadata": {},
     "output_type": "execute_result"
    }
   ],
   "source": [
    "df = pd.DataFrame(results, columns=['acquired', 'mean', 'min', 'max'])\n",
    "df = df.set_index('acquired')\n",
    "df.head()"
   ]
  },
  {
   "cell_type": "code",
   "execution_count": 7,
   "metadata": {},
   "outputs": [
    {
     "data": {
      "image/png": "[encoded data removed]",
      "text/plain": [
       "<Figure size 432x288 with 1 Axes>"
      ]
     },
     "metadata": {
      "needs_background": "light"
     },
     "output_type": "display_data"
    }
   ],
   "source": [
    "fig, ax = plt.subplots()\n",
    "df.plot(ax=ax)\n",
    "plt.show()"
   ]
  },
  {
   "cell_type": "code",
   "execution_count": 8,
   "metadata": {},
   "outputs": [],
   "source": [
    "df.to_csv('first_results.csv')"
   ]
  },
  {
   "cell_type": "code",
   "execution_count": 9,
   "metadata": {},
   "outputs": [
    {
     "data": {
      "text/html": [
       "<div>\n",
       "<style scoped>\n",
       "    .dataframe tbody tr th:only-of-type {\n",
       "        vertical-align: middle;\n",
       "    }\n",
       "\n",
       "    .dataframe tbody tr th {\n",
       "        vertical-align: top;\n",
       "    }\n",
       "\n",
       "    .dataframe thead th {\n",
       "        text-align: right;\n",
       "    }\n",
       "</style>\n",
       "<table border=\"1\" class=\"dataframe\">\n",
       "  <thead>\n",
       "    <tr style=\"text-align: right;\">\n",
       "      <th></th>\n",
       "      <th>mean</th>\n",
       "      <th>min</th>\n",
       "      <th>max</th>\n",
       "    </tr>\n",
       "    <tr>\n",
       "      <th>acquired</th>\n",
       "      <th></th>\n",
       "      <th></th>\n",
       "      <th></th>\n",
       "    </tr>\n",
       "  </thead>\n",
       "  <tbody>\n",
       "    <tr>\n",
       "      <th>2020-08-14 10:58:41</th>\n",
       "      <td>0.350550</td>\n",
       "      <td>-0.558735</td>\n",
       "      <td>0.711348</td>\n",
       "    </tr>\n",
       "    <tr>\n",
       "      <th>2020-08-14 10:58:36</th>\n",
       "      <td>-0.065776</td>\n",
       "      <td>-0.722446</td>\n",
       "      <td>0.699334</td>\n",
       "    </tr>\n",
       "    <tr>\n",
       "      <th>2020-08-14 10:58:37</th>\n",
       "      <td>0.169951</td>\n",
       "      <td>-0.724834</td>\n",
       "      <td>0.714040</td>\n",
       "    </tr>\n",
       "    <tr>\n",
       "      <th>2020-08-14 10:58:40</th>\n",
       "      <td>0.294269</td>\n",
       "      <td>-0.642276</td>\n",
       "      <td>0.721687</td>\n",
       "    </tr>\n",
       "    <tr>\n",
       "      <th>2020-08-14 10:58:38</th>\n",
       "      <td>0.247755</td>\n",
       "      <td>-0.704122</td>\n",
       "      <td>0.720332</td>\n",
       "    </tr>\n",
       "  </tbody>\n",
       "</table>\n",
       "</div>"
      ],
      "text/plain": [
       "                         mean       min       max\n",
       "acquired                                         \n",
       "2020-08-14 10:58:41  0.350550 -0.558735  0.711348\n",
       "2020-08-14 10:58:36 -0.065776 -0.722446  0.699334\n",
       "2020-08-14 10:58:37  0.169951 -0.724834  0.714040\n",
       "2020-08-14 10:58:40  0.294269 -0.642276  0.721687\n",
       "2020-08-14 10:58:38  0.247755 -0.704122  0.720332"
      ]
     },
     "execution_count": 9,
     "metadata": {},
     "output_type": "execute_result"
    }
   ],
   "source": [
    "results_df = pd.read_csv('first_results.csv', index_col='acquired', parse_dates=True)\n",
    "results_df.head()"
   ]
  },
  {
   "cell_type": "code",
   "execution_count": null,
   "metadata": {},
   "outputs": [],
   "source": []
  }
 ],
 "metadata": {
  "kernelspec": {
   "display_name": "Python 3",
   "language": "python",
   "name": "python3"
  },
  "language_info": {
   "codemirror_mode": {
    "name": "ipython",
    "version": 3
   },
   "file_extension": ".py",
   "mimetype": "text/x-python",
   "name": "python",
   "nbconvert_exporter": "python",
   "pygments_lexer": "ipython3",
   "version": "3.8.6"
  }
 },
 "nbformat": 4,
 "nbformat_minor": 4
}
